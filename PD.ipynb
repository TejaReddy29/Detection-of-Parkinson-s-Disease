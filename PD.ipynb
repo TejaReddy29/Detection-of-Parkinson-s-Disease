{
 "cells": [
  {
   "cell_type": "code",
   "execution_count": null,
   "metadata": {
    "id": "ktz9E-YKnjm9"
   },
   "outputs": [],
   "source": [
    "import warnings\n",
    "warnings.filterwarnings(\"ignore\")\n",
    "import pandas as pd\n",
    "import numpy as np\n",
    "import seaborn as sns\n",
    "from matplotlib import pyplot as plt"
   ]
  },
  {
   "cell_type": "markdown",
   "metadata": {
    "id": "Luy8LuN5yD7W"
   },
   "source": [
    "Loading the data"
   ]
  },
  {
   "cell_type": "code",
   "execution_count": null,
   "metadata": {
    "id": "UhNTsXPvoqG2"
   },
   "outputs": [],
   "source": [
    "data=pd.read_csv(\"Parkinson.csv\")"
   ]
  },
  {
   "cell_type": "markdown",
   "metadata": {
    "id": "4l8_PFQzhd4K"
   },
   "source": [
    "Dataset Details"
   ]
  },
  {
   "cell_type": "code",
   "execution_count": null,
   "metadata": {
    "colab": {
     "base_uri": "https://localhost:8080/"
    },
    "id": "6HJU4b6FZ6B9",
    "outputId": "fe01a43c-0390-4c60-abf8-fa83c5cd0f16"
   },
   "outputs": [],
   "source": [
    "data.columns"
   ]
  },
  {
   "cell_type": "code",
   "execution_count": null,
   "metadata": {
    "colab": {
     "base_uri": "https://localhost:8080/"
    },
    "id": "jnXsh2ZGZ-Vs",
    "outputId": "ab8027ff-69bb-4df3-8b4d-7ec9dd2b296e"
   },
   "outputs": [],
   "source": [
    "# using .shape we get to know about the number of rows and columns present in the dataset\n",
    "data.shape"
   ]
  },
  {
   "cell_type": "code",
   "execution_count": null,
   "metadata": {
    "colab": {
     "base_uri": "https://localhost:8080/",
     "height": 299
    },
    "id": "sVFQ9sqJaBPc",
    "outputId": "9f82b824-aa5e-498a-e88a-b8d90ec319b1"
   },
   "outputs": [],
   "source": [
    "# displaying the first rows from the dataset\n",
    "data.head()"
   ]
  },
  {
   "cell_type": "code",
   "execution_count": null,
   "metadata": {
    "colab": {
     "base_uri": "https://localhost:8080/",
     "height": 488
    },
    "id": "hmvqvh_7iuHY",
    "outputId": "fafd29f2-ef44-4972-8ac5-bdda086b611f"
   },
   "outputs": [],
   "source": [
    "# Remove two columns name is 'C' and 'D'\n",
    "#data=data.drop(['ID', 'test_time'], axis = 1)\n",
    "data"
   ]
  },
  {
   "cell_type": "code",
   "execution_count": null,
   "metadata": {
    "colab": {
     "base_uri": "https://localhost:8080/",
     "height": 364
    },
    "id": "7LmWin60hjty",
    "outputId": "974334de-66c0-4826-a0bb-b9025e43eb43",
    "scrolled": true
   },
   "outputs": [],
   "source": [
    "data.describe() #statistical data about the dataset"
   ]
  },
  {
   "cell_type": "code",
   "execution_count": null,
   "metadata": {
    "colab": {
     "base_uri": "https://localhost:8080/"
    },
    "id": "bNQ5JPzxacRm",
    "outputId": "fc277a6c-9e6d-403e-afc3-f8ab193bc555"
   },
   "outputs": [],
   "source": [
    "# displaying the dataset of the columns in the dataset\n",
    "data.dtypes"
   ]
  },
  {
   "cell_type": "code",
   "execution_count": null,
   "metadata": {
    "id": "lQoUrvktpiS2"
   },
   "outputs": [],
   "source": [
    "data['status'] = data['status'].astype('object')"
   ]
  },
  {
   "cell_type": "markdown",
   "metadata": {
    "id": "Rt9jx7mOdJdA"
   },
   "source": [
    "EDA (Exploratory data analysis)"
   ]
  },
  {
   "cell_type": "code",
   "execution_count": null,
   "metadata": {
    "colab": {
     "base_uri": "https://localhost:8080/",
     "height": 921
    },
    "id": "9M5Xg0LSdH8f",
    "outputId": "52ef4a73-5760-43b6-8d73-d53c5753b302"
   },
   "outputs": [],
   "source": [
    "# Plotting the histogram of dataset\n",
    "data.hist(figsize=(25,16))\n",
    "plt.show()"
   ]
  },
  {
   "cell_type": "code",
   "execution_count": null,
   "metadata": {
    "id": "2gRc-By5qny3"
   },
   "outputs": [],
   "source": [
    "list_of_non_object_cols = data.loc[:, data.dtypes != 'object'].columns.tolist()"
   ]
  },
  {
   "cell_type": "markdown",
   "metadata": {
    "id": "mdvSGbtsr-nC"
   },
   "source": [
    "Functions to ease up plotting of various continous variables"
   ]
  },
  {
   "cell_type": "code",
   "execution_count": null,
   "metadata": {
    "id": "0M_PRWjerPJu"
   },
   "outputs": [],
   "source": [
    "def Distribution_Continous_Variables(series,color,title):\n",
    "    plt.figure(figsize=(10, 5))\n",
    "    sns.distplot(series, color = color).set_title(title)\n",
    "def BoxPlot(**kwargs):\n",
    "    plt.figure(figsize=(10, 5))\n",
    "    sns.boxplot(x = kwargs['x'], \\\n",
    "                y = kwargs['y'], \\\n",
    "                data = kwargs['data'], \\\n",
    "                color = kwargs['color'], \\\n",
    "                hue = kwargs['hue']).set_title(kwargs['title'])    "
   ]
  },
  {
   "cell_type": "markdown",
   "metadata": {
    "id": "755pQr9frxAn"
   },
   "source": [
    "Univariate Analysis\n",
    "\n",
    "Plots to analyse impact of continous on the status"
   ]
  },
  {
   "cell_type": "markdown",
   "metadata": {
    "id": "pKKQf3iZyY-U"
   },
   "source": []
  },
  {
   "cell_type": "markdown",
   "metadata": {
    "id": "S-K_pgn-oAlA"
   },
   "source": []
  },
  {
   "cell_type": "code",
   "execution_count": null,
   "metadata": {
    "colab": {
     "base_uri": "https://localhost:8080/",
     "height": 1000
    },
    "id": "nJVs-SAFrVXQ",
    "outputId": "8f69e9cc-d491-4775-c542-b08d8100ebdd"
   },
   "outputs": [],
   "source": [
    "for col in list_of_non_object_cols:\n",
    "    Distribution_Continous_Variables(data[data['status']==0][col],\"green\",\"Distribution of {} in the dataset for healthy patients\"\\\n",
    "                                    .format(col))\n",
    "    Distribution_Continous_Variables(data[data['status']==1][col],\"red\",\"Distribution of {} in the dataset for patients with parkinson's disease\"\\\n",
    "                                    .format(col))"
   ]
  },
  {
   "cell_type": "markdown",
   "metadata": {
    "id": "gnt_Tdh2zFpJ"
   },
   "source": [
    "Data Correlation"
   ]
  },
  {
   "cell_type": "code",
   "execution_count": null,
   "metadata": {
    "colab": {
     "base_uri": "https://localhost:8080/",
     "height": 678
    },
    "id": "lVBnYzE7Vy16",
    "outputId": "52a6c0d2-b77a-4f33-9275-0699e2d9c04e"
   },
   "outputs": [],
   "source": [
    "data.corr()"
   ]
  },
  {
   "cell_type": "code",
   "execution_count": null,
   "metadata": {
    "colab": {
     "base_uri": "https://localhost:8080/",
     "height": 939
    },
    "id": "IoD6hs-xV7oN",
    "outputId": "99b40f75-08f2-4b2c-b846-b457e9393fd9"
   },
   "outputs": [],
   "source": [
    "plt.figure(figsize=(15, 15))\n",
    "p = sns.heatmap(data.corr(), annot=True,cmap='YlGnBu')"
   ]
  },
  {
   "cell_type": "markdown",
   "metadata": {
    "id": "GWW3uJofLKRj"
   },
   "source": [
    "Box Plot"
   ]
  },
  {
   "cell_type": "code",
   "execution_count": null,
   "metadata": {
    "colab": {
     "base_uri": "https://localhost:8080/",
     "height": 1000
    },
    "id": "sdDQqs48jomC",
    "outputId": "1fbd42ce-979a-4345-e398-2a548d219810"
   },
   "outputs": [],
   "source": [
    "for col in list_of_non_object_cols:\n",
    "    BoxPlot(x = 'status',\\\n",
    "            y = col,\\\n",
    "            data = data,\\\n",
    "            color = 'orange',\\\n",
    "            hue = 'status',\\\n",
    "            title = 'Boxplot of {}'.format(col))"
   ]
  },
  {
   "cell_type": "markdown",
   "metadata": {
    "id": "U6TD5qtLyg5b"
   },
   "source": [
    "Data Preprocessing"
   ]
  },
  {
   "cell_type": "code",
   "execution_count": null,
   "metadata": {
    "colab": {
     "base_uri": "https://localhost:8080/"
    },
    "id": "eVecfo0Kpvit",
    "outputId": "55a913d9-8b01-4e09-f2ba-7bd95c48e305"
   },
   "outputs": [],
   "source": [
    "data.info(verbose = True)"
   ]
  },
  {
   "cell_type": "code",
   "execution_count": null,
   "metadata": {
    "colab": {
     "base_uri": "https://localhost:8080/"
    },
    "id": "qSZdViMKa9R7",
    "outputId": "840d8e71-389a-4e65-9c5b-f72d9eba8c51"
   },
   "outputs": [],
   "source": [
    "data.isnull().sum()"
   ]
  },
  {
   "cell_type": "markdown",
   "metadata": {
    "id": "IVjl38fOxCWV"
   },
   "source": [
    "Removing Outliers:"
   ]
  },
  {
   "cell_type": "code",
   "execution_count": null,
   "metadata": {
    "colab": {
     "base_uri": "https://localhost:8080/",
     "height": 488
    },
    "id": "qy6GGRpZxCBs",
    "outputId": "9962a807-a290-4aeb-bfad-40238a098b6d"
   },
   "outputs": [],
   "source": [
    "from scipy.stats import iqr\n",
    "import numpy as np\n",
    "import pandas as pd\n",
    "from scipy import stats\n",
    "iqr(data, axis=0)\n",
    "Q1 = np.quantile(data,0.25)\n",
    "Q3 = np.quantile(data,0.75)\n",
    "IQR = Q3 - Q1\n",
    "for col in list_of_non_object_cols:\n",
    "    data['z_score']=stats.zscore(data[col])\n",
    "    data.loc[data['z_score'].abs()<=3]\n",
    "for col in list_of_non_object_cols:\n",
    "    data['ewm_alpha_1']=data[col].ewm(alpha=0.1).mean()\n",
    "    data['ewm_alpha_3']=data[col].ewm(alpha=0.3).mean()\n",
    "    data['ewm_alpha_6']=data[col].ewm(alpha=0.6).mean()\n",
    "data"
   ]
  },
  {
   "cell_type": "markdown",
   "metadata": {
    "id": "8tek7LQwAapU"
   },
   "source": [
    "Data Correlation"
   ]
  },
  {
   "cell_type": "code",
   "execution_count": null,
   "metadata": {
    "colab": {
     "base_uri": "https://localhost:8080/",
     "height": 832
    },
    "id": "FxzP9bYsAapW",
    "outputId": "26a350e7-db69-4ad6-c8bf-63ef4dec4142"
   },
   "outputs": [],
   "source": [
    "data.corr()"
   ]
  },
  {
   "cell_type": "code",
   "execution_count": null,
   "metadata": {
    "colab": {
     "base_uri": "https://localhost:8080/",
     "height": 939
    },
    "id": "kHIUjWRkAapX",
    "outputId": "4740392a-70f7-468b-f0a5-b38791e84c68"
   },
   "outputs": [],
   "source": [
    "plt.figure(figsize=(15, 15))\n",
    "p = sns.heatmap(data.corr(), annot=True,cmap='YlGnBu')"
   ]
  },
  {
   "cell_type": "code",
   "execution_count": null,
   "metadata": {
    "colab": {
     "base_uri": "https://localhost:8080/"
    },
    "id": "sBTLtS5fbJdu",
    "outputId": "ab900baf-06fe-401d-f0ae-2c96833f7b9a"
   },
   "outputs": [],
   "source": [
    "data['status'].value_counts()"
   ]
  },
  {
   "cell_type": "code",
   "execution_count": null,
   "metadata": {
    "colab": {
     "base_uri": "https://localhost:8080/",
     "height": 299
    },
    "id": "bgpMVWM4bXH2",
    "outputId": "46ada006-e602-4781-cbf5-535098f14246"
   },
   "outputs": [],
   "source": [
    "sns.countplot(data['status'])"
   ]
  },
  {
   "cell_type": "code",
   "execution_count": null,
   "metadata": {},
   "outputs": [],
   "source": [
    "data_fea=data.drop(['status','z_score', 'ewm_alpha_1','ewm_alpha_3','ewm_alpha_6'],axis=1)\n"
   ]
  },
  {
   "cell_type": "markdown",
   "metadata": {
    "id": "FbzJOyyjtpL3"
   },
   "source": [
    "Model evaluation"
   ]
  },
  {
   "cell_type": "markdown",
   "metadata": {
    "id": "vtW8A4Na4S5x"
   },
   "source": [
    "XGBoost"
   ]
  },
  {
   "cell_type": "code",
   "execution_count": null,
   "metadata": {
    "colab": {
     "base_uri": "https://localhost:8080/"
    },
    "id": "7gsN5TpeGKWu",
    "outputId": "c471b03c-910d-4d82-c319-8bccd5422383"
   },
   "outputs": [],
   "source": [
    "from sklearn.preprocessing import MinMaxScaler\n",
    "from xgboost import XGBClassifier\n",
    "from sklearn.model_selection import train_test_split\n",
    "from sklearn.metrics import accuracy_score\n",
    "from sklearn.metrics import classification_report, confusion_matrix\n",
    "\n",
    "#print(data_fea)\n",
    "\n",
    "\n",
    "features=data.loc[:,data.columns!='status'].values[:,1:]\n",
    "labels=data.loc[:,'status'].values\n",
    "scaler=MinMaxScaler((-1,1))\n",
    "#scaler.fit(data)\n",
    "\n",
    "x=scaler.fit_transform(data_fea)\n",
    "y=labels\n",
    "\n",
    "\n",
    "x_train,x_test,y_train,y_test=train_test_split(x, y, test_size=0.33, random_state=7)\n",
    "\n",
    "\n",
    "XG_model =XGBClassifier(learning_rate =0.1,n_estimators=50,max_depth=5,min_child_weight=1,gamma=0,subsample=0.8,colsample_bytree=0.8,objective= 'binary:logistic',nthread=4,\n",
    "                          scale_pos_weight=1,seed=2)\n",
    "XG_model.fit(x_train, y_train, eval_metric=\"error\",eval_set=[(x_train, y_train), (x_test, y_test)])\n",
    "\n",
    "\n",
    "y_pred=XG_model.predict(x_test)\n",
    "predictions = [round(value) for value in y_pred]\n",
    "ACCXg=accuracy_score(y_test.astype('float64'), y_pred.astype('float64'))*100\n",
    "print(\"ACCURACY SCORE OF XGBOOST: %.f%%\"%ACCXg)\n",
    "results=XG_model.evals_result()\n",
    "epochs=len(results['validation_0']['error'])\n",
    "print(\"Epochs\",epochs)"
   ]
  },
  {
   "cell_type": "code",
   "execution_count": null,
   "metadata": {
    "colab": {
     "base_uri": "https://localhost:8080/",
     "height": 360
    },
    "id": "kqQb-APGB51i",
    "outputId": "1635d505-cbc8-4999-c389-238fa89cbd97"
   },
   "outputs": [],
   "source": [
    "# Calculate the Confusion Matrix for the model.\n",
    "CM1=confusion_matrix(y_test.astype(int),y_pred.astype(int))\n",
    "print(\"Confusion Matrix\\n\",CM1)\n",
    "ax = sns.heatmap(CM1, annot=True, cmap='Blues')\n",
    "ax.set_xlabel('\\nPredicted Values')\n",
    "ax.set_ylabel('Actual Values ')"
   ]
  },
  {
   "cell_type": "code",
   "execution_count": null,
   "metadata": {
    "colab": {
     "base_uri": "https://localhost:8080/"
    },
    "id": "I1dXHpY1CE3f",
    "outputId": "af210afd-d5ff-4a8f-f0dd-acfb62eacab8"
   },
   "outputs": [],
   "source": [
    "# Displaying the classification report using sklearn\n",
    "print(\"Classification Report:\\n\",classification_report(y_test.astype(int),y_pred.astype(int)))"
   ]
  },
  {
   "cell_type": "markdown",
   "metadata": {
    "id": "6tAfDXqbXTrd"
   },
   "source": [
    "Validation "
   ]
  },
  {
   "cell_type": "code",
   "execution_count": null,
   "metadata": {
    "colab": {
     "base_uri": "https://localhost:8080/"
    },
    "id": "MMM1UDUsUley",
    "outputId": "4ed72b47-9830-4b83-addd-68cbe240df82"
   },
   "outputs": [],
   "source": [
    "from scipy.sparse.construct import random\n",
    "from sklearn.model_selection import StratifiedKFold\n",
    "from sklearn.model_selection import cross_val_score\n",
    "import xgboost\n",
    "model = xgboost.XGBClassifier()\n",
    "kfold = StratifiedKFold(n_splits=10, random_state=None)\n",
    "results = cross_val_score(model, x.astype(float), y.astype(int), cv=kfold)\n",
    "print(\"Mean Accuracy: %.f%% \\nStandard deviation percentage: %.2f%%\"%(results.mean()*100, results.std()*100))"
   ]
  },
  {
   "cell_type": "markdown",
   "metadata": {
    "id": "Mewqzk91ddUz"
   },
   "source": [
    "Random Forest"
   ]
  },
  {
   "cell_type": "code",
   "execution_count": null,
   "metadata": {
    "id": "icF4QM6RP0mH"
   },
   "outputs": [],
   "source": [
    "import numpy as np\n",
    "import math\n",
    "class RandomForest():\n",
    "    def __init__(self, x, y, n_trees, n_features, sample_sz, depth=10, min_leaf=2):\n",
    "        np.random.seed(12)\n",
    "        if n_features == 'sqrt':\n",
    "            self.n_features = int(np.sqrt(x.shape[1]))\n",
    "        elif n_features == 'log2':\n",
    "            self.n_features = int(np.log2(x.shape[1]))\n",
    "        else:\n",
    "            self.n_features = n_features\n",
    "         \n",
    "        self.x, self.y, self.sample_sz, self.depth, self.min_leaf  = x, y, sample_sz, depth, min_leaf\n",
    "        self.trees = [self.create_tree() for i in range(n_trees)]\n",
    "\n",
    "    def create_tree(self):\n",
    "        idxs = np.random.permutation(len(self.y))[:self.sample_sz]\n",
    "        f_idxs = np.random.permutation(self.x.shape[1])[:self.n_features]\n",
    "        return DecisionTree(self.x[idxs], self.y[idxs], self.n_features, f_idxs,\n",
    "                    idxs=np.array(range(self.sample_sz)),depth = self.depth, min_leaf=self.min_leaf)\n",
    "        \n",
    "    def predict(self, x):\n",
    "        return np.mean([t.predict(x) for t in self.trees], axis=0)\n",
    "\n",
    "def std_agg(cnt, s1, s2): return math.sqrt((s2/cnt) - (s1/cnt)**2)\n",
    "\n",
    "class DecisionTree():\n",
    "    def __init__(self, x, y, n_features, f_idxs,idxs,depth=10, min_leaf=5):\n",
    "        self.x, self.y, self.idxs, self.min_leaf, self.f_idxs = x, y, idxs, min_leaf, f_idxs\n",
    "        self.depth = depth\n",
    "#         print(self.depth)\n",
    "        self.n_features = n_features\n",
    "        self.n, self.c = len(idxs), x.shape[1]\n",
    "        self.val = np.mean(y[idxs])\n",
    "        self.score = float('inf')\n",
    "        self.find_varsplit()\n",
    "        \n",
    "    def find_varsplit(self):\n",
    "        for i in self.f_idxs: self.find_better_split(i)\n",
    "        if self.is_leaf: return\n",
    "        x = self.split_col\n",
    "        lhs = np.nonzero(x<=self.split)[0]\n",
    "        rhs = np.nonzero(x>self.split)[0]\n",
    "        lf_idxs = np.random.permutation(self.x.shape[1])[:self.n_features]\n",
    "        rf_idxs = np.random.permutation(self.x.shape[1])[:self.n_features]\n",
    "        self.lhs = DecisionTree(self.x, self.y, self.n_features, lf_idxs, self.idxs[lhs], depth=self.depth-1, min_leaf=self.min_leaf)\n",
    "        self.rhs = DecisionTree(self.x, self.y, self.n_features, rf_idxs, self.idxs[rhs], depth=self.depth-1, min_leaf=self.min_leaf)\n",
    "\n",
    "    def find_better_split(self, var_idx):\n",
    "        x, y = self.x[self.idxs,var_idx], self.y[self.idxs]\n",
    "        sort_idx = np.argsort(x)\n",
    "        sort_y,sort_x = y[sort_idx], x[sort_idx]\n",
    "        rhs_cnt,rhs_sum,rhs_sum2 = self.n, sort_y.sum(), (sort_y**2).sum()\n",
    "        lhs_cnt,lhs_sum,lhs_sum2 = 0,0.,0.\n",
    "\n",
    "        for i in range(0,self.n-self.min_leaf-1):\n",
    "            xi,yi = sort_x[i],sort_y[i]\n",
    "            lhs_cnt += 1; rhs_cnt -= 1\n",
    "            lhs_sum += yi; rhs_sum -= yi\n",
    "            lhs_sum2 += yi**2; rhs_sum2 -= yi**2\n",
    "            if i<self.min_leaf or xi==sort_x[i+1]:\n",
    "                continue\n",
    "\n",
    "            lhs_std = std_agg(lhs_cnt, lhs_sum, lhs_sum2)\n",
    "            rhs_std = std_agg(rhs_cnt, rhs_sum, rhs_sum2)\n",
    "            curr_score = lhs_std*lhs_cnt + rhs_std*rhs_cnt\n",
    "            if curr_score<self.score: \n",
    "                self.var_idx,self.score,self.split = var_idx,curr_score,xi\n",
    "\n",
    "    @property\n",
    "    def split_name(self): return self.x.columns[self.var_idx]\n",
    "    \n",
    "    @property\n",
    "    def split_col(self): return self.x[self.idxs,self.var_idx]\n",
    "\n",
    "    @property\n",
    "    def is_leaf(self): return self.score == float('inf') or self.depth <= 0 \n",
    "    \n",
    "\n",
    "    def predict(self, x):\n",
    "        return np.array([self.predict_row(xi) for xi in x])\n",
    "\n",
    "    def predict_row(self, xi):\n",
    "        if self.is_leaf: return self.val\n",
    "        t = self.lhs if xi[self.var_idx]<=self.split else self.rhs\n",
    "        return t.predict_row(xi)"
   ]
  },
  {
   "cell_type": "code",
   "execution_count": null,
   "metadata": {
    "colab": {
     "base_uri": "https://localhost:8080/"
    },
    "id": "Kd2DTUcXjBha",
    "outputId": "41c19e5e-ada3-4ecd-83d4-cc30a4a83f70"
   },
   "outputs": [],
   "source": [
    "import pandas as pd\n",
    "from sklearn.preprocessing import MinMaxScaler\n",
    "from sklearn.model_selection import train_test_split\n",
    "from sklearn.metrics import accuracy_score\n",
    "\n",
    "#Get the features and labels\n",
    "features=data.loc[:,data.columns!='status'].values[:,1:]\n",
    "labels=data.loc[:,'status'].values\n",
    "\n",
    "#Scale the features to between -1 and 1\n",
    "scaler=MinMaxScaler((-1,1))\n",
    "X=scaler.fit_transform(features)\n",
    "y=labels.astype(int)\n",
    "X_train, X_test, y_train, y_test = train_test_split(X, y, test_size=0.33, random_state=1)\n",
    "print(X_train.shape, X_test.shape, y_train.shape, y_test.shape)"
   ]
  },
  {
   "cell_type": "code",
   "execution_count": null,
   "metadata": {
    "id": "kGhsltyLjCGF"
   },
   "outputs": [],
   "source": [
    "model2=RandomForest(X_train,y_train,10,20,321,10,2)"
   ]
  },
  {
   "cell_type": "code",
   "execution_count": null,
   "metadata": {
    "id": "LCATMatRjkC7"
   },
   "outputs": [],
   "source": [
    "preds=model2.predict(X_test)"
   ]
  },
  {
   "cell_type": "code",
   "execution_count": null,
   "metadata": {
    "colab": {
     "base_uri": "https://localhost:8080/"
    },
    "id": "0uVGoxm-jkpG",
    "outputId": "969bc136-043f-4348-b927-d661cb572976"
   },
   "outputs": [],
   "source": [
    "#Checking the accuracy\n",
    "ACCRF=accuracy_score(y_test.astype('int64'), preds.astype('int64'))*100\n",
    "print(\"ACCURACY Score Of Random Forest : %.f%%\"%ACCRF)"
   ]
  },
  {
   "cell_type": "markdown",
   "metadata": {
    "id": "coOlafd0e3Zy"
   },
   "source": [
    "Validation"
   ]
  },
  {
   "cell_type": "code",
   "execution_count": null,
   "metadata": {
    "colab": {
     "base_uri": "https://localhost:8080/"
    },
    "id": "pOtsO6dfyHo9",
    "outputId": "d6dcd519-6057-4c03-f857-a6e2fe91e4c8"
   },
   "outputs": [],
   "source": [
    "from scipy.sparse.construct import random\n",
    "from sklearn.model_selection import StratifiedKFold\n",
    "from sklearn.model_selection import cross_val_score\n",
    "from sklearn.ensemble import RandomForestClassifier\n",
    "model2 = RandomForestClassifier(random_state=0)\n",
    "kfold = StratifiedKFold(n_splits=5)\n",
    "result = cross_val_score(model2, X.astype('float64'), y.astype('int64'), cv=kfold)\n",
    "print(\"Mean Accuracy: %.f%% \\nStandard deviation classification Accuracy: %.2f%%\"%(result.mean()*100, result.std()*100))"
   ]
  },
  {
   "cell_type": "code",
   "execution_count": null,
   "metadata": {
    "colab": {
     "base_uri": "https://localhost:8080/",
     "height": 360
    },
    "id": "3F9NRkgCmNpJ",
    "outputId": "29f78a5d-905a-4fb7-83a1-dfcda06c9a13"
   },
   "outputs": [],
   "source": [
    "from sklearn.metrics import classification_report, confusion_matrix\n",
    "import seaborn as sns\n",
    "CM= confusion_matrix(y_test.astype('int64'),preds.astype('int64'))\n",
    "print(\"Confusion Matrix of Random Forest\\n\",CM)\n",
    "ax = sns.heatmap(CM, annot=True, cmap='Blues')\n",
    "ax.set_xlabel('\\nPredicted Values')\n",
    "ax.set_ylabel('Actual Values ')"
   ]
  },
  {
   "cell_type": "code",
   "execution_count": null,
   "metadata": {
    "colab": {
     "base_uri": "https://localhost:8080/"
    },
    "id": "D1M1tGIbmOr6",
    "outputId": "2d34e61b-799d-409d-c436-4c2ebdfb4a01"
   },
   "outputs": [],
   "source": [
    "print(\"Classification report of Random Forest: \\n\",classification_report(y_test.astype('int64'),preds.astype('int64')))"
   ]
  },
  {
   "cell_type": "markdown",
   "metadata": {
    "id": "p9_Ywq21dhQ9"
   },
   "source": [
    "KNN"
   ]
  },
  {
   "cell_type": "code",
   "execution_count": null,
   "metadata": {
    "id": "K9BHsZrudfFo"
   },
   "outputs": [],
   "source": [
    "#Importing the required modules\n",
    "import numpy as np\n",
    "from scipy.stats import mode\n",
    "#Euclidean Distance\n",
    "def eucledian(p1,p2):\n",
    "    dist = np.sqrt(np.sum((p1-p2)**2))\n",
    "    return dist\n",
    "class KNN:\n",
    "#Function to calculate KNN\n",
    "  def predict(x_train,y , x_input, k):\n",
    "    op_labels = []\n",
    "     \n",
    "      #Loop through the Datapoints to be classified\n",
    "    for item in x_input: \n",
    "         \n",
    "        #Array to store distances\n",
    "        point_dist = []\n",
    "         \n",
    "          #Loop through each training Data\n",
    "        for j in range(len(x_train)): \n",
    "              distances = eucledian(np.array(x_train[j,:]) ,item) \n",
    "              #Calculating the distance\n",
    "              point_dist.append(distances) \n",
    "        point_dist = np.array(point_dist) \n",
    "         \n",
    "        #Sorting the array while preserving the index\n",
    "        #Keeping the first K datapoints\n",
    "        dist = np.argsort(point_dist)[:k] \n",
    "         \n",
    "        #Labels of the K datapoints from above\n",
    "        labels = y[dist]\n",
    "         \n",
    "        #Majority voting\n",
    "        lab = mode(labels) \n",
    "        lab = lab.mode[0]\n",
    "        op_labels.append(lab)\n",
    " \n",
    "    return op_labels"
   ]
  },
  {
   "cell_type": "code",
   "execution_count": null,
   "metadata": {
    "colab": {
     "base_uri": "https://localhost:8080/"
    },
    "id": "_jkAq0mRT30m",
    "outputId": "e4bd6b1c-d2e2-489b-e66a-4a1b976d7d7a"
   },
   "outputs": [],
   "source": [
    "#Importing the required modules\n",
    "#Importing required modules\n",
    "from sklearn.preprocessing import MinMaxScaler\n",
    "from sklearn.model_selection import train_test_split\n",
    "from sklearn.metrics import accuracy_score\n",
    "from numpy.random import randint\n",
    "#Get the features and labels\n",
    "features=data.loc[:,data.columns!='status'].values[:,1:]\n",
    "labels=data.loc[:,'status'].values\n",
    "#Scale the features to between -1 and 1\n",
    "scaler=MinMaxScaler((-1,1))\n",
    "x=scaler.fit_transform(features)\n",
    "y=labels.astype(int)\n",
    "#Split the dataset\n",
    "X_train,X_test,y_train,y_test=train_test_split(x, y, test_size=0.3,random_state=5)\n",
    "model3=KNN()\n",
    "#Applying our function \n",
    "y_pred = KNN.predict(X_train,y_train,X_test,10)\n",
    "#Checking the accuracy\n",
    "ACCKNN=accuracy_score(y_test, y_pred)*100\n",
    "print(\"ACCURACY Score Of KNN: %.f%%\"%ACCKNN)"
   ]
  },
  {
   "cell_type": "code",
   "execution_count": null,
   "metadata": {
    "colab": {
     "base_uri": "https://localhost:8080/",
     "height": 360
    },
    "id": "x9xhunCkdgR_",
    "outputId": "e896bfb6-f551-4f15-a6bf-528a352bb98e"
   },
   "outputs": [],
   "source": [
    "from sklearn.metrics import classification_report, confusion_matrix\n",
    "import seaborn as sns\n",
    "CM= confusion_matrix(y_test,y_pred)\n",
    "print(\"Confusion Matrix of KNN\\n\",CM)\n",
    "ax = sns.heatmap(CM, annot=True, cmap='Blues')\n",
    "ax.set_xlabel('\\nPredicted Values')\n",
    "ax.set_ylabel('Actual Values ')"
   ]
  },
  {
   "cell_type": "code",
   "execution_count": null,
   "metadata": {
    "colab": {
     "base_uri": "https://localhost:8080/"
    },
    "id": "_O0g82aAdgvO",
    "outputId": "5ab34ea7-a7e0-4fcd-8b6b-df15a5cf42ad"
   },
   "outputs": [],
   "source": [
    "print(\"Classification report of KNN: \\n\",classification_report(y_test,y_pred))"
   ]
  },
  {
   "cell_type": "code",
   "execution_count": null,
   "metadata": {
    "colab": {
     "base_uri": "https://localhost:8080/"
    },
    "id": "OPKf8ci_d_rY",
    "outputId": "c332db6e-b664-4daa-a769-68c3aa4a94eb"
   },
   "outputs": [],
   "source": [
    "from scipy.sparse.construct import random\n",
    "from sklearn.model_selection import StratifiedKFold\n",
    "from sklearn.model_selection import cross_val_score\n",
    "from sklearn.neighbors import KNeighborsClassifier\n",
    "model3 = KNeighborsClassifier(n_neighbors=10)\n",
    "kfold = StratifiedKFold(n_splits=5)\n",
    "results = cross_val_score(model3, X.astype('float64'), y.astype('int64'), cv=kfold)\n",
    "print(\"Mean Accuracy: %.f%% \\nStandard deviation classification Accuracy: %.2f%%\"%(results.mean()*100, results.std()*100))"
   ]
  },
  {
   "cell_type": "markdown",
   "metadata": {
    "id": "nwEjzjfrzfZX"
   },
   "source": [
    "Accuracy Plot"
   ]
  },
  {
   "cell_type": "code",
   "execution_count": null,
   "metadata": {
    "colab": {
     "base_uri": "https://localhost:8080/",
     "height": 471
    },
    "id": "u8KrDlt3zeHL",
    "outputId": "a2ca0232-380e-4398-c5df-031090f57b00"
   },
   "outputs": [],
   "source": [
    "import matplotlib.pyplot as plt\n",
    "def AccPlot():\n",
    "    fig=plt.figure(figsize=(7,5))\n",
    "    ax=fig.add_axes([0,0,1,1])\n",
    "    models= ['XGBOOST','RANDOM FOREST','KNN']\n",
    "    acc=float(format(ACCXg, '.0f'))\n",
    "    acc1=float(format(ACCRF,\".0f\"))\n",
    "    acc2=float(format(ACCKNN,\".0f\"))\n",
    "    scores=[acc,acc1,acc2]\n",
    "    ax.set_ylabel('Accuracy Score(%)',fontsize=12)\n",
    "    ax.set_xlabel('\\n Model',fontsize=12)\n",
    "    ax.set_title(\"Models Accuracy Score \\n\")\n",
    "    for i,v in enumerate(scores):\n",
    "        ax.text(i,v+1,str(v),color='black',fontsize=18)\n",
    "    plt.savefig('barplot_1.png',dpi=100,format='png',bbox_inches='tight')\n",
    "    plt.bar(models,scores, color=['firebrick', 'green', 'blue'])\n",
    "    plt.show()\n",
    "AccPlot()"
   ]
  },
  {
   "cell_type": "code",
   "execution_count": null,
   "metadata": {
    "id": "ISM02BWKXm5a"
   },
   "outputs": [],
   "source": [
    "data_in=data.drop(['z_score', 'ewm_alpha_1','ewm_alpha_3','ewm_alpha_6'], axis =1)"
   ]
  },
  {
   "cell_type": "code",
   "execution_count": null,
   "metadata": {
    "colab": {
     "base_uri": "https://localhost:8080/"
    },
    "id": "39CaAe7ZT7yr",
    "outputId": "20f36c49-0064-453a-a650-156a42246414"
   },
   "outputs": [],
   "source": [
    "#input data and transform into numpy array\n",
    "in_data= np.asarray(tuple(map(float,input().rstrip().split(','))))\n",
    "in_data=in_data.reshape(1,-1)\n",
    "in_data_sca = scaler.fit_transform(in_data)\n",
    "\n",
    "#print the predicted output for input array\n",
    "output=XG_model.predict(in_data)\n",
    "if output==1:\n",
    "    print(\"Does  Has Parkinson's Disease\")\n",
    "else:\n",
    "    print(\"Does not Has Parkinson's Disease\")\n",
    "\n",
    "#print(\"Parkinson's Disease Detected\" if XG_model.predict(in_data) else \"No Parkinson's Disease Detected\")"
   ]
  },
  {
   "cell_type": "code",
   "execution_count": null,
   "metadata": {},
   "outputs": [],
   "source": [
    "#325,12.666,28.447,34.894,0.00564,0.00003,0.00331,0.0292,0.00994,0.02751,0.263,0.01604,0.01657,0.1879,0.04812,0.0181,19.147,0.431674,0.683244,0.168895\n",
    "#Parkinson Disease Detected\n",
    "#9,117.66,33.178,42.904,0.01713,0.000169,0.01021,0.00865,0.03064,0.04686,0.446,0.2312,0.02679,0.3946,0.06935,0.05563,17.387,0.75697,0.77215,0.45606\n",
    "#No Parkinson Disease Detected\n",
    "#Parkinson Disease is Detected\n",
    "#325,152.64,35.509,46.013,0.0136,0.00008,0.00624,0.00564,0.01873,0.02308,0.256,0.01268,0.01365,0.01667,0.03804,0.10715,17.883,0.407567,0.655683,0.131728\n",
    "\n",
    "# No parkinson\n",
    "#297,117.67,33.178,42.904,0.00742,0.00005,0.00364,0.00432,0.01092,0.05517,0.542,0.2471,0.03572,0.05767,0.07413,0.0316,17.28,0.665318,0.719467,0.377429"
   ]
  },
  {
   "cell_type": "code",
   "execution_count": null,
   "metadata": {},
   "outputs": [],
   "source": [
    "import tkinter\n",
    "from tkinter import ttk\n",
    "from tkinter import *\n",
    "from PIL import ImageTk, Image\n",
    "import pandas as pd\n",
    "import tkinter  as tk\n",
    "from tkinter import filedialog\n",
    "from tkinter.filedialog import askopenfile\n",
    "\n",
    "def DATASET():\n",
    "\n",
    "    my_w = tkinter.Tk()\n",
    "    my_w.geometry(\"800x800\")  # Size of the window\n",
    "    my_w.title('Dataset')\n",
    "\n",
    "    my_font1=('times', 12, 'bold')\n",
    "    l1 = tk.Label(my_w,text='Read File & create DataFrame',\n",
    "        width=30,font=my_font1)\n",
    "    l1.grid(row=1,column=1)\n",
    "    b1 = tk.Button(my_w, text='Browse File',\n",
    "       width=20,command = lambda:upload_file())\n",
    "    b1.grid(row=2,column=1)\n",
    "    t1=tk.Text(my_w,width=200,height=200)\n",
    "    t1.grid(row=3,column=1,padx=5)\n",
    "\n",
    "    def upload_file():\n",
    "        f_types = [('CSV files',\"*.csv\"),('All',\"*.*\")]\n",
    "        file = filedialog.askopenfilename(filetypes=f_types)\n",
    "        #l1.config(text=file) # display the path\n",
    "        df=pd.read_csv(file) # create DataFrame\n",
    "        #str1=\"Rows:\" + str(df.shape[0])+ \"\\nColumns:\"+str(df.shape[1])\n",
    "        #print(str1)\n",
    "        t1.insert(tk.END, df) # add to Text widget\n",
    "    my_w.mainloop()  # Keep the window open\n",
    "\n",
    "\n",
    "\n",
    "def Accuracy():\n",
    "    Accuracy = tkinter.Tk()\n",
    "    Accuracy.title(\"accuracy\")\n",
    "    Accuracy.geometry('600x300')\n",
    "    frame1 = tkinter.LabelFrame(Accuracy, text=\" \\t   Accuracy \\t\\t\",bg='black', fg='White',font=(\"Calibri\", 32, 'bold'))\n",
    "    frame1.place(height=300, width=600)\n",
    "    style=ttk.Style(frame1)\n",
    "    style.theme_use('clam')\n",
    "    treev = ttk.Treeview(frame1,selectmode ='browse')\n",
    "    treev.pack(fill=tkinter.BOTH,expand=True)\n",
    "    treev[\"columns\"] = (\"1\", \"2\")\n",
    "    treev['show'] = 'headings'\n",
    "    treev.column(\"1\", width = 150, anchor ='c')\n",
    "    treev.column(\"2\", width = 50, anchor ='c')\n",
    "    #treev.column(\"3\", width = 90, anchor ='se')\n",
    "    style=ttk.Style()\n",
    "    style.configure(\"Treeview.Heading\",font=(\"Times New Roman\", 14,'bold'))\n",
    "    treev.heading(\"1\", text =\"Algorithms\")\n",
    "    treev.heading(\"2\", text =\"Accuracy\")\n",
    "    #treev.heading(\"3\", text =\"Time\")\n",
    "\n",
    "    acc1=format(ACCXg,\".0f\")\n",
    "    #timer=format(s11,\".3f\")\n",
    "    treev.insert(\"\", 'end', text =\"L1\",values =(\"XG BOOST\",acc1))\n",
    "\n",
    "    acc2=format(ACCRF,\".0f\")\n",
    "    #format(RF_model.accuracy_score(X_test.astype('float64'),y_test.astype('float64'))*100,\".1f\")\n",
    "    #timer2=format(s22,\".3f\")\n",
    "    treev.insert(\"\", 'end', text =\"L2\",values =(\"Random Forest\",acc2))\n",
    "\n",
    "    acc3=format(ACCKNN,\".0f\")\n",
    "    #timer4=format(s44,\".3f\")\n",
    "    treev.insert(\"\", 'end', text =\"L3\",values =(\"KNN\",acc3))\n",
    "\n",
    "    Accuracy.mainloop()\n",
    "\n",
    "from tkinter import *\n",
    "from tkinter import messagebox\n",
    "def validation2(inp):\n",
    "\n",
    "    r=1\n",
    "    if (inp <3.866) or (inp >178.8):\n",
    "        if(inp <0.0000001) or (inp >50.00):\n",
    "             r=0\n",
    "    return r\n",
    "import tkinter as tk\n",
    "def Prediction():\n",
    "    top = tkinter.Tk()\n",
    "    top.title(\"Prediction\")\n",
    "    top.geometry('1000x1000')\n",
    "    top['background']='gray'\n",
    "    head = tkinter.Label(top, text = \"   \\t  Parkinson Disease Prediction                        \\t    \",\n",
    "                 bg='black', fg='White',font=(\"Serif\", 32, 'bold')).place(x =100,y =2 )\n",
    "    tkinter.Label(top,text=\"MDVP:FO\",bg='gray',font=(\"Serif\", 14, 'bold')).place(x=30,y=150)\n",
    "    k1=tk.StringVar()\n",
    "    k1_entrybox=ttk.Entry(top,width=16,textvariable=k1)\n",
    "    k1_entrybox.place(x=300,y=150)\n",
    "\n",
    "    tkinter.Label(top,text=\"MDVP:FHO\",bg='gray',font=(\"Serif\", 14, 'bold')).place(x=30,y=200)\n",
    "    k2=tk.StringVar()\n",
    "    k2_entrybox=ttk.Entry(top,width=16,textvariable=k2)\n",
    "    k2_entrybox.place(x=300,y=200)\n",
    "\n",
    "    tkinter.Label(top,text=\"motor_UPDRS\",bg='gray',font=(\"Serif\", 14, 'bold')).place(x=30,y=250)\n",
    "    k3=tk.StringVar()\n",
    "    k3_entrybox=ttk.Entry(top,width=16,textvariable=k3)\n",
    "    k3_entrybox.place(x=300,y=250)\n",
    "\n",
    "    tkinter.Label(top,text=\"total_UPDRS\",bg='gray',font=(\"Serif\", 14, 'bold')).place(x=30,y=300)\n",
    "    k4=tk.StringVar()\n",
    "    k4_entrybox=ttk.Entry(top,width=16,textvariable=k4)\n",
    "    k4_entrybox.place(x=300,y=300)\n",
    "\n",
    "    tkinter.Label(top,text=\"jitter%\",bg='gray',font=(\"Serif\", 14, 'bold')).place(x=30,y=350)\n",
    "    k5=tk.StringVar()\n",
    "    k5_entrybox=ttk.Entry(top,width=16,textvariable=k5)\n",
    "    k5_entrybox.place(x=300,y=350)\n",
    "\n",
    "    tkinter.Label(top,text=\"jitterAbs\",bg='gray',font=(\"Serif\", 14, 'bold')).place(x=30,y=400)\n",
    "    k6=tk.StringVar()\n",
    "    k6_entrybox=ttk.Entry(top,width=16,textvariable=k6)\n",
    "    k6_entrybox.place(x=300,y=400)\n",
    "\n",
    "    tkinter.Label(top,text=\"jitter:RAP\",bg='gray',font=(\"Serif\", 14, 'bold')).place(x=30,y=450)\n",
    "    k7=tk.StringVar()\n",
    "    k7_entrybox=ttk.Entry(top,width=16,textvariable=k7)\n",
    "    k7_entrybox.place(x=300,y=450)\n",
    "\n",
    "    tkinter.Label(top,text=\"jitter:PPQ5\",bg='gray',font=(\"Serif\", 14, 'bold')).place(x=30,y=500)\n",
    "    k8=tk.StringVar()\n",
    "    k8_entrybox=ttk.Entry(top,width=16,textvariable=k8)\n",
    "    k8_entrybox.place(x=300,y=500)\n",
    "\n",
    "    tkinter.Label(top,text=\"jitter:DDP\",bg='gray',font=(\"Serif\", 14, 'bold')).place(x=30,y=550)\n",
    "    k9=tk.StringVar()\n",
    "    k9_entrybox=ttk.Entry(top,width=16,textvariable=k9)\n",
    "    k9_entrybox.place(x=300,y=550)\n",
    "\n",
    "    tkinter.Label(top,text=\"Shimmer\",bg='gray',font=(\"Serif\", 14, 'bold')).place(x=30,y=600)\n",
    "    k10=tk.StringVar()\n",
    "    k10_entrybox=ttk.Entry(top,width=16,textvariable=k10)\n",
    "    k10_entrybox.place(x=300,y=600)\n",
    "\n",
    "    tkinter.Label(top,text=\"Shimmer dB\",bg='gray',font=(\"Serif\", 14, 'bold')).place(x=590,y=150)\n",
    "    k11=tk.DoubleVar()\n",
    "    k11_entrybox=ttk.Entry(top,width=16,textvariable=k11)\n",
    "    k11_entrybox.place(x=860,y=150)\n",
    "\n",
    "    tkinter.Label(top,text=\"Shimmer:APQ3\",bg='gray',font=(\"Serif\", 14, 'bold')).place(x=590,y=200)\n",
    "    k12=tk.StringVar()\n",
    "    k12_entrybox=ttk.Entry(top,width=16,textvariable=k12)\n",
    "    k12_entrybox.place(x=860,y=200)\n",
    "\n",
    "    tkinter.Label(top,text=\"Shimmer:APQ5\",bg='gray',font=(\"Serif\", 14, 'bold')).place(x=590,y=250)\n",
    "    k13=tk.StringVar()\n",
    "    k13_entrybox=ttk.Entry(top,width=16,textvariable=k13)\n",
    "    k13_entrybox.place(x=860,y=250)\n",
    "\n",
    "    tkinter.Label(top,text=\"Shimmer:APQ11\",bg='gray',font=(\"Serif\", 14, 'bold')).place(x=590,y=300)\n",
    "    k14=tk.StringVar()\n",
    "    k14_entrybox=ttk.Entry(top,width=16,textvariable=k14)\n",
    "    k14_entrybox.place(x=860,y=300)\n",
    "\n",
    "    tkinter.Label(top,text=\"Shimmer:DDA\",bg='gray',font=(\"Serif\", 14, 'bold')).place(x=590,y=350)\n",
    "    k15=tk.StringVar()\n",
    "    k15_entrybox=ttk.Entry(top,width=16,textvariable=k15)\n",
    "    k15_entrybox.place(x=860,y=350)\n",
    "\n",
    "    tkinter.Label(top,text=\"NHR\",bg='gray',font=(\"Serif\", 14, 'bold')).place(x=590,y=400)\n",
    "    k16=tk.StringVar()\n",
    "    k16_entrybox=ttk.Entry(top,width=16,textvariable=k16)\n",
    "    k16_entrybox.place(x=860,y=400)\n",
    "\n",
    "    tkinter.Label(top,text=\"HNR\",bg='gray',font=(\"Serif\", 14, 'bold')).place(x=590,y=450)\n",
    "    k17=tk.DoubleVar()\n",
    "    k17_entrybox=ttk.Entry(top,width=16,textvariable=k17)\n",
    "    k17_entrybox.place(x=860,y=450)\n",
    "\n",
    "    tkinter.Label(top,text=\"RPDE\",bg='gray',font=(\"Serif\", 14, 'bold')).place(x=590,y=500)\n",
    "    k18=tk.StringVar()\n",
    "    k18_entrybox=ttk.Entry(top,width=16,textvariable=k18)\n",
    "    k18_entrybox.place(x=860,y=500)\n",
    "\n",
    "    tkinter.Label(top,text=\"DFA\",bg='gray',font=(\"Serif\", 14, 'bold')).place(x=590,y=550)\n",
    "    k19=tk.StringVar()\n",
    "    k19_entrybox=ttk.Entry(top,width=16,textvariable=k19)\n",
    "    k19_entrybox.place(x=860,y=550)\n",
    "\n",
    "    tkinter.Label(top,text=\"PPE\",bg='gray',font=(\"Serif\", 14, 'bold')).place(x=590,y=600)\n",
    "    k20=tk.StringVar()\n",
    "    k20_entrybox=ttk.Entry(top,width=16,textvariable=k20)\n",
    "    k20_entrybox.place(x=860,y=600)\n",
    "\n",
    "\n",
    "    def Submit():\n",
    "        v=[]\n",
    "        d1=int(k1_entrybox.get())\n",
    "        #v1=validation1(d1)\n",
    "        d2=float(k2_entrybox.get())\n",
    "        v2=validation2(d2)\n",
    "        v.append(v2)\n",
    "        d3=float(k3_entrybox.get())\n",
    "        v3=validation2(d3)\n",
    "        v.append(v3)\n",
    "        d4=float(k4_entrybox.get())\n",
    "        v4=validation2(d4)\n",
    "        v.append(v4)\n",
    "        d5=float(k5_entrybox.get())\n",
    "        v5=validation2(d5)\n",
    "        v.append(v5)\n",
    "        d6=float(k6_entrybox.get())\n",
    "        v6=validation2(d6)\n",
    "        v.append(v6)\n",
    "        d7=float(k7_entrybox.get())\n",
    "        v7=validation2(d7)\n",
    "        v.append(v7)\n",
    "        d8=float(k8_entrybox.get())\n",
    "        v8=validation2(d8)\n",
    "        v.append(v8)\n",
    "        d9=float(k9_entrybox.get())\n",
    "        v9=validation2(d9)\n",
    "        v.append(v9)\n",
    "        d10=float(k10_entrybox.get())\n",
    "        v10=validation2(d10)\n",
    "        v.append(v10)\n",
    "        d11=float(k11_entrybox.get())\n",
    "        v11=validation2(d11)\n",
    "        v.append(v11)\n",
    "        d12=float(k12_entrybox.get())\n",
    "        v12=validation2(d12)\n",
    "        v.append(v12)\n",
    "        d13=float(k13_entrybox.get())\n",
    "        v13=validation2(d13)\n",
    "        v.append(v13)\n",
    "        d14=float(k14_entrybox.get())\n",
    "        v14=validation2(d14)\n",
    "        v.append(v14)\n",
    "        d15=float(k15_entrybox.get())\n",
    "        v15=validation2(d15)\n",
    "        v.append(v15)\n",
    "        d16=float(k16_entrybox.get())\n",
    "        v16=validation2(d16)\n",
    "        v.append(v16)\n",
    "        d17=float(k17_entrybox.get())\n",
    "        v17=validation2(d17)\n",
    "        v.append(v17)\n",
    "        d18=float(k18_entrybox.get())\n",
    "        v18=validation2(d18)\n",
    "        v.append(v18)\n",
    "        d19=float(k19_entrybox.get())\n",
    "        v19=validation2(d19)\n",
    "        v.append(v19)\n",
    "        d20=float(k20_entrybox.get())\n",
    "        v20=validation2(d20)\n",
    "        v.append(v20)\n",
    "\n",
    "        #for i in v:\n",
    "            #print(i)\n",
    "\n",
    "        newWindow3 = tkinter.Toplevel(top)\n",
    "        newWindow3.title(\"Patient Result\")\n",
    "        newWindow3['background']='white'\n",
    "        newWindow3.geometry(\"800x450\")\n",
    "        label=tkinter.Label(newWindow3,\n",
    "              text ='             Patient Result  \\t  \\t', bg='black', fg=\"white\", font=(\"Serif\", 32, 'bold')).place(x = 0,y = 10)\n",
    "\n",
    "        d={'MDVP:FO' :[d1] ,'MDVP:FHO' :[d2],' motor_UPDRS':[d3],'total_UPDRS':[d4],'Jitter':[d5],'Jitter(Abs)':[d6],'Jitter:RAP':[d7],'Jitter:PPQ5':[d8],\n",
    "                'Jitter:DDP':[d9],'Shimmer':[d10],'Shimmer(dB)':[d11],'Shimmer:APQ3':[d12],'Shimmer:APQ5':[d13],'Shimmer:APQ11':[d14],\n",
    "                'Shimmer:DDA':[d15],'NHR':[d16],'HNR':[d17],'RPDE':[d18],'DFA':[d19],'PPE':[d20]}\n",
    "        #print(type(d1))\n",
    "        #print(type(d3))\n",
    "        df3=pd.DataFrame(d)\n",
    "        #print(df3)\n",
    "        pred = XG_model.predict(df3)\n",
    "\n",
    "        r=0\n",
    "        for i in v:\n",
    "            if i==0:\n",
    "                r+=1\n",
    "\n",
    "        if r!=0:\n",
    "            result=\"Invalid Input\"\n",
    "        elif pred==1:\n",
    "            result=\"Does Have Parkinson Disease\"\n",
    "        else:\n",
    "            result=\"Does not has Parkinson Disease\"\n",
    "\n",
    "\n",
    "        tkinter.Label(newWindow3,text =result,bg='white',font=(\"Serif\", 26,'bold')).place(x = 2,y = 100)\n",
    "    sub=ttk.Button(top,text=\"Submit\",command=Submit).place(x=450,y=650)\n",
    "    Prediction.mainloop()\n",
    "\n",
    "\n",
    "global img\n",
    "from tkinter import *\n",
    "from PIL import ImageTk,Image\n",
    "def ACCURACYPLOT():\n",
    "    root =tkinter.Toplevel()\n",
    "    root.geometry(\"811x575\")\n",
    "    img1=PhotoImage(file='plot.png')\n",
    "    Label(root,image=img1).pack()\n",
    "\n",
    "    root.mainloop()\n",
    "top = tkinter.Toplevel()\n",
    "top.title(\"Parkinson's Disease Prediction\")\n",
    "label=tkinter.Label(top, text =\"            Parkinson's Disease Prediction  \\t  \\t\", bg='black', fg=\"white\", font=(\"Serif\", 32, 'bold')).place(x = 0,y = 10)\n",
    "top.geometry('1000x1000')\n",
    "img = ImageTk.PhotoImage(file=\"bg.jpg\")\n",
    "label1 = tkinter.Label(\n",
    "    top,\n",
    "    image=img\n",
    ")\n",
    "label1.place(x=0, y=0)\n",
    "btn0 = tkinter.Button(top, text=\"DATASET\", command=DATASET,bg=\"white\", font=(\"Serif\", 11)).place(x=50, y=300)\n",
    "btn1 = tkinter.Button(top, text=\"ACCURACY PLOT\",command=ACCURACYPLOT,bg=\"white\", font=(\"Serif\", 11)).place(x=200, y=300)\n",
    "btn2 = tkinter.Button(top, text=\"ACCURACY\",command=Accuracy,bg=\"white\", font=(\"Serif\", 11)).place(x=400, y=300)\n",
    "btn3 = tkinter.Button(top, text=\"PREDICTION\",command=Prediction, bg=\"white\", font=(\"Serif\", 11)).place(x=600, y=300)\n",
    "top.mainloop()            \n"
   ]
  },
  {
   "cell_type": "code",
   "execution_count": null,
   "metadata": {},
   "outputs": [],
   "source": []
  }
 ],
 "metadata": {
  "colab": {
   "collapsed_sections": [],
   "name": "parkinson's_disease.ipynb",
   "provenance": []
  },
  "kernelspec": {
   "display_name": "Python 3 (ipykernel)",
   "language": "python",
   "name": "python3"
  },
  "language_info": {
   "codemirror_mode": {
    "name": "ipython",
    "version": 3
   },
   "file_extension": ".py",
   "mimetype": "text/x-python",
   "name": "python",
   "nbconvert_exporter": "python",
   "pygments_lexer": "ipython3",
   "version": "3.9.12"
  }
 },
 "nbformat": 4,
 "nbformat_minor": 1
}
